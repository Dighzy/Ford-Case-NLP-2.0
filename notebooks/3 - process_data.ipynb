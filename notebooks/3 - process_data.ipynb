{
 "cells": [
  {
   "cell_type": "markdown",
   "metadata": {},
   "source": [
    "# Pre processing the data"
   ]
  },
  {
   "cell_type": "markdown",
   "metadata": {},
   "source": [
    "## Reading the data and setting imports\n"
   ]
  },
  {
   "cell_type": "code",
   "execution_count": 1,
   "metadata": {},
   "outputs": [
    {
     "name": "stderr",
     "output_type": "stream",
     "text": [
      "[nltk_data] Downloading package punkt_tab to\n",
      "[nltk_data]     C:\\Users\\dighz\\AppData\\Roaming\\nltk_data...\n",
      "[nltk_data]   Package punkt_tab is already up-to-date!\n",
      "[nltk_data] Downloading package stopwords to\n",
      "[nltk_data]     C:\\Users\\dighz\\AppData\\Roaming\\nltk_data...\n",
      "[nltk_data]   Unzipping corpora\\stopwords.zip.\n",
      "[nltk_data] Downloading package wordnet to\n",
      "[nltk_data]     C:\\Users\\dighz\\AppData\\Roaming\\nltk_data...\n",
      "[nltk_data]   Package wordnet is already up-to-date!\n"
     ]
    },
    {
     "data": {
      "text/html": [
       "<div>\n",
       "<style scoped>\n",
       "    .dataframe tbody tr th:only-of-type {\n",
       "        vertical-align: middle;\n",
       "    }\n",
       "\n",
       "    .dataframe tbody tr th {\n",
       "        vertical-align: top;\n",
       "    }\n",
       "\n",
       "    .dataframe thead th {\n",
       "        text-align: right;\n",
       "    }\n",
       "</style>\n",
       "<table border=\"1\" class=\"dataframe\">\n",
       "  <thead>\n",
       "    <tr style=\"text-align: right;\">\n",
       "      <th></th>\n",
       "      <th>Year</th>\n",
       "      <th>Make</th>\n",
       "      <th>Model</th>\n",
       "      <th>odiNumber</th>\n",
       "      <th>manufacturer</th>\n",
       "      <th>crash</th>\n",
       "      <th>fire</th>\n",
       "      <th>numberOfInjuries</th>\n",
       "      <th>numberOfDeaths</th>\n",
       "      <th>dateOfIncident</th>\n",
       "      <th>dateComplaintFiled</th>\n",
       "      <th>vin</th>\n",
       "      <th>components</th>\n",
       "      <th>summary</th>\n",
       "      <th>products</th>\n",
       "    </tr>\n",
       "  </thead>\n",
       "  <tbody>\n",
       "    <tr>\n",
       "      <th>0</th>\n",
       "      <td>2020</td>\n",
       "      <td>FORD</td>\n",
       "      <td>RANGER</td>\n",
       "      <td>11642687</td>\n",
       "      <td>Ford Motor Company</td>\n",
       "      <td>False</td>\n",
       "      <td>False</td>\n",
       "      <td>0</td>\n",
       "      <td>0</td>\n",
       "      <td>07/14/2023</td>\n",
       "      <td>02/14/2025</td>\n",
       "      <td>1FTER4FH4LL</td>\n",
       "      <td>ELECTRICAL SYSTEM,FORWARD COLLISION AVOIDANCE</td>\n",
       "      <td>The contact owns a 2020 Ford Ranger. The conta...</td>\n",
       "      <td>[{'type': 'Vehicle', 'productYear': '2020', 'p...</td>\n",
       "    </tr>\n",
       "  </tbody>\n",
       "</table>\n",
       "</div>"
      ],
      "text/plain": [
       "   Year  Make   Model  odiNumber        manufacturer  crash   fire  \\\n",
       "0  2020  FORD  RANGER   11642687  Ford Motor Company  False  False   \n",
       "\n",
       "   numberOfInjuries  numberOfDeaths dateOfIncident dateComplaintFiled  \\\n",
       "0                 0               0     07/14/2023         02/14/2025   \n",
       "\n",
       "           vin                                     components  \\\n",
       "0  1FTER4FH4LL  ELECTRICAL SYSTEM,FORWARD COLLISION AVOIDANCE   \n",
       "\n",
       "                                             summary  \\\n",
       "0  The contact owns a 2020 Ford Ranger. The conta...   \n",
       "\n",
       "                                            products  \n",
       "0  [{'type': 'Vehicle', 'productYear': '2020', 'p...  "
      ]
     },
     "execution_count": 1,
     "metadata": {},
     "output_type": "execute_result"
    }
   ],
   "source": [
    "import pandas as pd\n",
    "import numpy as np\n",
    "import re\n",
    "import nltk\n",
    "import torch\n",
    "\n",
    "from nltk.corpus import stopwords\n",
    "from nltk.stem import WordNetLemmatizer\n",
    "from nltk.tokenize import word_tokenize\n",
    "\n",
    "from sklearn.feature_extraction.text import CountVectorizer\n",
    "import matplotlib.pyplot as plt\n",
    "\n",
    "from transformers import BertTokenizer, BertModel\n",
    "from textblob import TextBlob\n",
    "\n",
    "# Baixar recursos necessários\n",
    "nltk.download('punkt_tab')\n",
    "nltk.download('stopwords')\n",
    "nltk.download('wordnet')\n",
    "\n",
    "\n",
    "df_raw = pd.read_csv('../data/raw/full_data_2020_2025_FORD.csv')\n",
    "df_raw.head(1)"
   ]
  },
  {
   "cell_type": "markdown",
   "metadata": {},
   "source": [
    "## Initial steps to process the data"
   ]
  },
  {
   "cell_type": "code",
   "execution_count": 2,
   "metadata": {},
   "outputs": [],
   "source": [
    "# Removing unnecessary columns\n",
    "df_final = df_raw.drop(['Make','odiNumber', 'manufacturer', 'vin', 'products'], axis=1)"
   ]
  },
  {
   "cell_type": "code",
   "execution_count": 3,
   "metadata": {},
   "outputs": [],
   "source": [
    "# Changing the type of bool to int\n",
    "\n",
    "df_final['fire'] = df_final['fire'].astype(int)\n",
    "df_final['crash'] = df_final['crash'].astype(int)"
   ]
  },
  {
   "cell_type": "code",
   "execution_count": 4,
   "metadata": {},
   "outputs": [],
   "source": [
    "# Converting the 'dateOfIncident' and 'dateComplaintFiled' columns to datetime format\n",
    "df_final['dateOfIncident'] = pd.to_datetime(df_final['dateOfIncident'])\n",
    "df_final['dateComplaintFiled'] = pd.to_datetime(df_final['dateComplaintFiled'])\n",
    "\n",
    "# Creating a new feature that could be valuable for the model: the difference in days between the incident date and the complaint filed date\n",
    "df_final['daysBetween'] = (df_final['dateComplaintFiled'] - df_final['dateOfIncident']).dt.days\n"
   ]
  },
  {
   "cell_type": "code",
   "execution_count": 5,
   "metadata": {},
   "outputs": [],
   "source": [
    "# Splitting the 'components' column into a list of components for each row, handling missing values\n",
    "df_final[\"components_list\"] = df_final[\"components\"].apply(lambda x: x.split(\",\") if pd.notna(x) else [])\n"
   ]
  },
  {
   "cell_type": "markdown",
   "metadata": {},
   "source": [
    "## Text Processing Section"
   ]
  },
  {
   "cell_type": "code",
   "execution_count": 6,
   "metadata": {},
   "outputs": [],
   "source": [
    "# Text preprocessing function\n",
    "\n",
    "def preprocess_text(text):\n",
    "    # Remove special characters and punctuation\n",
    "    text = re.sub(r'\\W', ' ', text)\n",
    "    text = re.sub(r'\\s+', ' ', text)  # Replace multiple spaces with a single space\n",
    "    \n",
    "    text = text.lower()\n",
    "    \n",
    "    # Tokenization: Split the text into individual words\n",
    "    words = word_tokenize(text)\n",
    "    \n",
    "    # Remove stopwords (common words like 'the', 'and', etc.)\n",
    "    stop_words = set(stopwords.words('english'))\n",
    "    words = [word for word in words if word not in stop_words]\n",
    "    \n",
    "    # Lemmatization: Convert words to their base or root form (e.g., 'running' to 'run')\n",
    "    lemmatizer = WordNetLemmatizer()\n",
    "    words = [lemmatizer.lemmatize(word) for word in words]\n",
    "    \n",
    "    return ' '.join(words)  \n",
    "\n",
    "df_final['processed_summary'] = df_final['summary'].apply(preprocess_text)"
   ]
  },
  {
   "cell_type": "markdown",
   "metadata": {},
   "source": [
    "In these case i decided to use bert because its a more robust model that generates contextual embeddings.\n",
    "\n",
    "This is important for analyzing complaints, as it helps capture the full meaning of the text and identify patterns or issues more accurately\n",
    "\n",
    "I chose BERT over other models because it's lighter while still providing strong contextual embeddings without needing a complete transformer"
   ]
  },
  {
   "cell_type": "code",
   "execution_count": 7,
   "metadata": {},
   "outputs": [],
   "source": [
    "# Load the pre-trained BERT model and tokenizer\n",
    "tokenizer = BertTokenizer.from_pretrained('bert-base-uncased')\n",
    "model = BertModel.from_pretrained('bert-base-uncased')\n",
    "\n",
    "def get_model_embedding(text):\n",
    "    \"\"\"Converts text into a BERT embedding\"\"\"\n",
    "    if pd.isna(text):\n",
    "        return torch.zeros(512)  \n",
    "    \n",
    "    inputs = tokenizer(text, return_tensors=\"pt\", padding=True, truncation=True, max_length=512)\n",
    "    with torch.no_grad():\n",
    "        outputs = model(**inputs)\n",
    "    \n",
    "    return outputs.last_hidden_state.mean(dim=1).squeeze().numpy()\n",
    "\n",
    "df_final['summary_embedding'] = df_final['summary'].apply(get_model_embedding)\n",
    "df_final['model_embedding'] = df_final['Model'].apply(get_model_embedding)\n"
   ]
  },
  {
   "cell_type": "code",
   "execution_count": 8,
   "metadata": {},
   "outputs": [],
   "source": [
    "# Calculating the word count and character count for the processed summary\n",
    "df_final[\"word_count\"] = df_final[\"processed_summary\"].apply(lambda x: len(x.split()))  # Count the number of words\n",
    "df_final[\"char_count\"] = df_final[\"processed_summary\"].apply(len)  # Count the number of characters"
   ]
  },
  {
   "cell_type": "code",
   "execution_count": 10,
   "metadata": {},
   "outputs": [],
   "source": [
    "import json\n",
    "df_final['summary_embedding'] = df_final['summary_embedding'].apply(lambda x: json.dumps(x.tolist()) if isinstance(x, np.ndarray) else x)\n",
    "df_final['model_embedding'] = df_final['model_embedding'].apply(lambda x: json.dumps(x.tolist()) if isinstance(x, np.ndarray) else x)"
   ]
  },
  {
   "cell_type": "code",
   "execution_count": 11,
   "metadata": {},
   "outputs": [],
   "source": [
    "# Calculating the sentiment polarity for each processed summary\n",
    "df_final['sentiment'] = df_final['processed_summary'].apply(lambda x: TextBlob(x).sentiment.polarity)\n",
    "\n",
    "# 1.0 → Positive, 0.0 → Neutral, -1.0 → Negative"
   ]
  },
  {
   "cell_type": "code",
   "execution_count": 12,
   "metadata": {},
   "outputs": [
    {
     "data": {
      "image/png": "[encoded data removed]",
      "text/plain": [
       "<Figure size 2500x500 with 1 Axes>"
      ]
     },
     "metadata": {},
     "output_type": "display_data"
    },
    {
     "name": "stdout",
     "output_type": "stream",
     "text": [
      "Most Frequent Words in Complaints:\n",
      "vehicle: 66099\n",
      "contact: 50556\n",
      "ford: 39768\n",
      "failure: 33221\n",
      "dealer: 24919\n",
      "issue: 22454\n",
      "stated: 20783\n",
      "truck: 20441\n",
      "recall: 17050\n",
      "driving: 17044\n",
      "time: 16661\n",
      "manufacturer: 16579\n",
      "light: 13908\n",
      "brake: 12553\n",
      "car: 12330\n",
      "warning: 12154\n",
      "repair: 12137\n",
      "owns: 11271\n",
      "engine: 11270\n",
      "door: 10943\n",
      "problem: 9928\n",
      "mileage: 9696\n",
      "repaired: 9331\n",
      "available: 8954\n",
      "speed: 8920\n",
      "dealership: 8778\n",
      "transmission: 8703\n",
      "nhtsa: 8650\n",
      "rear: 8490\n",
      "000: 8304\n",
      "driver: 8053\n",
      "approximately: 7787\n",
      "taken: 7710\n",
      "power: 7663\n",
      "stop: 7496\n",
      "2021: 7426\n",
      "aware: 7303\n",
      "mile: 7213\n",
      "150: 7105\n",
      "drive: 7001\n",
      "safety: 6994\n",
      "replaced: 6927\n",
      "diagnosed: 6736\n",
      "service: 6567\n",
      "local: 6535\n",
      "2020: 6514\n",
      "number: 6414\n",
      "sound: 6264\n",
      "gear: 5967\n",
      "failed: 5899\n"
     ]
    }
   ],
   "source": [
    "texts = df_final['processed_summary'].dropna()  \n",
    "\n",
    "# Analyzing the most frequent words using CountVectorizer\n",
    "vectorizer = CountVectorizer(stop_words='english', max_features=50)  # Remove common stopwords and limit to top 50 words\n",
    "word_counts = vectorizer.fit_transform(texts)  # Transform the text into a matrix of word counts\n",
    "\n",
    "# Get the most frequent words\n",
    "words_freq = dict(zip(vectorizer.get_feature_names_out(), word_counts.sum(axis=0).A1))\n",
    "sorted_words_freq = sorted(words_freq.items(), key=lambda x: x[1], reverse=True)  # Sort words by frequency\n",
    "\n",
    "# Visualize the most frequent words with a bar chart\n",
    "plt.figure(figsize=(25, 5))  \n",
    "plt.bar(*zip(*sorted_words_freq))  \n",
    "plt.xticks(rotation=45)  \n",
    "plt.title('Most Frequent Words in Complaints')  \n",
    "plt.xlabel('Words')  \n",
    "plt.ylabel('Frequency')  \n",
    "plt.show()  \n",
    "\n",
    "# Display the most frequent words in the console\n",
    "print(\"Most Frequent Words in Complaints:\")\n",
    "for word, freq in sorted_words_freq:\n",
    "    print(f\"{word}: {freq}\")\n"
   ]
  },
  {
   "cell_type": "markdown",
   "metadata": {},
   "source": [
    "The word \"recall\" appears 6,635 times, suggesting that many complaints are related to safety issues that could result in a recall.\n",
    "\n",
    "Terms such as \"failure\" (10,606), \"issue\" (6,746), \"problem\" (2,573), and \"safety\" (2,496) also indicate a strong emphasis on critical technical issues."
   ]
  },
  {
   "cell_type": "markdown",
   "metadata": {},
   "source": [
    "Terms like \"nhtsa\" (3,330) indicate that consumers frequently mention the National Highway Traffic Safety Administration (NHTSA) in their complaints, possibly to report serious failures."
   ]
  },
  {
   "cell_type": "markdown",
   "metadata": {},
   "source": [
    "## Components Processing Section"
   ]
  },
  {
   "cell_type": "markdown",
   "metadata": {},
   "source": [
    "I decided to create a model that can predict the type of problem based solely on the text of vehicle complaints. \n",
    "\n",
    "This will help Ford efficiently classify and prioritize issues reported by customers, enabling faster identification of critical components affected, such as safety-related systems or engine performance.\n",
    "\n",
    "It will help the company identify the major problem with the car without requiring extensive manual review, allowing quicker response times for addressing common defects."
   ]
  },
  {
   "cell_type": "code",
   "execution_count": 13,
   "metadata": {},
   "outputs": [
    {
     "data": {
      "text/plain": [
       "components_list\n",
       "POWER TRAIN                               10659\n",
       "ELECTRICAL SYSTEM                          7962\n",
       "UNKNOWN OR OTHER                           5780\n",
       "ENGINE                                     5043\n",
       "STRUCTURE                                  3453\n",
       "SERVICE BRAKES                             3210\n",
       "VISIBILITY                                 2204\n",
       "FORWARD COLLISION AVOIDANCE                2101\n",
       "VISIBILITY/WIPER                           1918\n",
       "EXTERIOR LIGHTING                          1452\n",
       "BACK OVER PREVENTION                       1441\n",
       "VEHICLE SPEED CONTROL                      1412\n",
       "STEERING                                   1410\n",
       "FUEL/PROPULSION SYSTEM                     1318\n",
       "EQUIPMENT                                  1240\n",
       "SUSPENSION                                 1101\n",
       "WHEELS                                     1088\n",
       "ENGINE AND ENGINE COOLING                   853\n",
       "LANE DEPARTURE                              673\n",
       "FUEL SYSTEM                                 618\n",
       "LATCHES/LOCKS/LINKAGES                      553\n",
       "AIR BAGS                                    548\n",
       "SEATS                                       439\n",
       " HYDRAULIC                                  379\n",
       " GASOLINE                                   372\n",
       "SEAT BELTS                                  353\n",
       "TIRES                                       296\n",
       "PARKING BRAKE                               253\n",
       " DIESEL                                     245\n",
       " AIR                                         51\n",
       "FIRERELATED                                  47\n",
       "HYBRID PROPULSION SYSTEM                     27\n",
       " Harness                                     26\n",
       " Buckle                                      26\n",
       "Chest Clip                                   26\n",
       "ELECTRONIC STABILITY CONTROL (ESC)           24\n",
       "INTERIOR LIGHTING                            14\n",
       "TRAILER HITCHES                              13\n",
       "TRACTION CONTROL SYSTEM                      12\n",
       "COMMUNICATION                                 3\n",
       "Other/I am not sure                           2\n",
       "Tether                                        2\n",
       " Lower Anchor (on car seat or vehicle)        2\n",
       " OTHER                                        1\n",
       "Name: count, dtype: int64"
      ]
     },
     "execution_count": 13,
     "metadata": {},
     "output_type": "execute_result"
    }
   ],
   "source": [
    "# Analyzing the distribution of data in the 'components\n",
    "df_final['components_list'].explode().value_counts()"
   ]
  },
  {
   "cell_type": "code",
   "execution_count": 14,
   "metadata": {},
   "outputs": [],
   "source": [
    "# Mapping the problemns \n",
    "category_map = {\n",
    "    # Engine and Propulsion Systems\n",
    "    'ENGINE': 'Engine and Propulsion Systems',\n",
    "    'POWER TRAIN': 'Engine and Propulsion Systems',\n",
    "    'FUEL SYSTEM': 'Engine and Propulsion Systems',\n",
    "    'ENGINE AND ENGINE COOLING': 'Engine and Propulsion Systems',\n",
    "    'HYBRID PROPULSION SYSTEM': 'Engine and Propulsion Systems',\n",
    "    'FUEL/PROPULSION SYSTEM': 'Engine and Propulsion Systems',\n",
    "    'HYDRAULIC': 'Engine and Propulsion Systems',\n",
    "    'GASOLINE': 'Engine and Propulsion Systems',\n",
    "    'DIESEL': 'Engine and Propulsion Systems',\n",
    "    \n",
    "    # Safety and Brakes \n",
    "    'AIR BAGS': 'Safety and Brakes',\n",
    "    'SEAT BELTS': 'Safety and Brakes',\n",
    "    'SERVICE BRAKES': 'Safety and Brakes',\n",
    "    'LATCHES/LOCKS/LINKAGES': 'Safety and Brakes',\n",
    "    'PARKING BRAKE': 'Safety and Brakes',\n",
    "    'FORWARD COLLISION AVOIDANCE': 'Safety and Brakes',\n",
    "    'HARNESS': 'Safety and Brakes',\n",
    "    'BUCKLE': 'Safety and Brakes',\n",
    "    'CHEST CLIP': 'Safety and Brakes',\n",
    "    'TETHER': 'Safety and Brakes',\n",
    "    'LOWER ANCHOR (ON CAR SEAT OR VEHICLE)': 'Safety and Brakes',\n",
    "    \n",
    "    # Electrical Systems \n",
    "    'ELECTRICAL SYSTEM': 'Electrical Systems',\n",
    "    'ELECTRONIC STABILITY CONTROL (ESC)': 'Electrical Systems',\n",
    "    'EXTERIOR LIGHTING': 'Electrical Systems',\n",
    "    'VISIBILITY': 'Electrical Systems',\n",
    "    'VISIBILITY/WIPER': 'Electrical Systems',\n",
    "    'INTERIOR LIGHTING': 'Electrical Systems',\n",
    "    \n",
    "    # Vehicle Control and Structure\n",
    "    'STRUCTURE': 'Vehicle Control and Structure',\n",
    "    'STEERING': 'Vehicle Control and Structure',\n",
    "    'WHEELS': 'Vehicle Control and Structure',\n",
    "    'TIRES': 'Vehicle Control and Structure',\n",
    "    'SUSPENSION': 'Vehicle Control and Structure',\n",
    "    'VEHICLE SPEED CONTROL': 'Vehicle Control and Structure',\n",
    "    'LANE DEPARTURE': 'Vehicle Control and Structure',\n",
    "    'TRACTION CONTROL SYSTEM': 'Vehicle Control and Structure',\n",
    "    \n",
    "    # Miscellaneous and Other Problems\n",
    "    'UNKNOWN OR OTHER': 'Miscellaneous and Other Problems',\n",
    "    'BACK OVER PREVENTION': 'Miscellaneous and Other Problems',\n",
    "    'TRAILER HITCHES': 'Miscellaneous and Other Problems',\n",
    "    'COMMUNICATION': 'Miscellaneous and Other Problems',\n",
    "    'OTHER': 'Miscellaneous and Other Problems',\n",
    "    'EQUIPMENT': 'Miscellaneous and Other Problems',\n",
    "    'FIRERELATED': 'Miscellaneous and Other Problems',\n",
    "    \n",
    "    # Interior and Comfort Systems\n",
    "    'SEATS': 'Interior and Comfort Systems',\n",
    "    'AIR': 'Interior and Comfort Systems',\n",
    "    \n",
    "}\n",
    "\n",
    "\n",
    "\n",
    "\n",
    "# Creating category column without duplicates \n",
    "df_final[\"general_category\"] = df_final[\"components_list\"].apply(\n",
    "    lambda x: list(set(category_map.get(i, \"Other Problems\") for i in x))\n",
    ")\n"
   ]
  },
  {
   "cell_type": "code",
   "execution_count": 15,
   "metadata": {},
   "outputs": [
    {
     "name": "stdout",
     "output_type": "stream",
     "text": [
      "general_category\n",
      "Engine and Propulsion Systems       16364\n",
      "Electrical Systems                  12911\n",
      "Vehicle Control and Structure        8733\n",
      "Miscellaneous and Other Problems     8061\n",
      "Safety and Brakes                    6370\n",
      "Other Problems                       1068\n",
      "Interior and Comfort Systems          439\n",
      "Name: count, dtype: int64\n"
     ]
    },
    {
     "data": {
      "image/png": "[encoded data removed]",
      "text/plain": [
       "<Figure size 500x300 with 1 Axes>"
      ]
     },
     "metadata": {},
     "output_type": "display_data"
    }
   ],
   "source": [
    "# Here we are plotting the distribution of categories\n",
    "# Calculate category counts\n",
    "category_counts = df_final[\"general_category\"].explode().value_counts()\n",
    "\n",
    "# Display category counts\n",
    "print(category_counts)\n",
    "\n",
    "# Plot the distribution\n",
    "plt.figure(figsize=(5, 3))\n",
    "category_counts.plot(kind='bar', color='skyblue')\n",
    "plt.title('Category Distribution')\n",
    "plt.xlabel('Categories')\n",
    "plt.ylabel('Number of Instances')\n",
    "plt.xticks(rotation=45, ha='right')\n",
    "plt.show()\n"
   ]
  },
  {
   "cell_type": "markdown",
   "metadata": {},
   "source": [
    "As we can see in the graph above, we have some categories with more data than others.\n",
    "\n",
    "As we want the model to reflect the operational reality of the most common problems faced we will not apply data balancing.\n",
    "\n",
    "The model will be evaluated in terms of F1-score, recall and precision and if it significantly favors larger categories we will apply data balancing."
   ]
  },
  {
   "cell_type": "code",
   "execution_count": 16,
   "metadata": {},
   "outputs": [
    {
     "data": {
      "text/html": [
       "<div>\n",
       "<style scoped>\n",
       "    .dataframe tbody tr th:only-of-type {\n",
       "        vertical-align: middle;\n",
       "    }\n",
       "\n",
       "    .dataframe tbody tr th {\n",
       "        vertical-align: top;\n",
       "    }\n",
       "\n",
       "    .dataframe thead th {\n",
       "        text-align: right;\n",
       "    }\n",
       "</style>\n",
       "<table border=\"1\" class=\"dataframe\">\n",
       "  <thead>\n",
       "    <tr style=\"text-align: right;\">\n",
       "      <th></th>\n",
       "      <th>general_category</th>\n",
       "      <th>components_list</th>\n",
       "    </tr>\n",
       "  </thead>\n",
       "  <tbody>\n",
       "    <tr>\n",
       "      <th>0</th>\n",
       "      <td>[Safety and Brakes, Electrical Systems]</td>\n",
       "      <td>[ELECTRICAL SYSTEM, FORWARD COLLISION AVOIDANCE]</td>\n",
       "    </tr>\n",
       "    <tr>\n",
       "      <th>1</th>\n",
       "      <td>[Electrical Systems]</td>\n",
       "      <td>[VISIBILITY]</td>\n",
       "    </tr>\n",
       "    <tr>\n",
       "      <th>2</th>\n",
       "      <td>[Electrical Systems]</td>\n",
       "      <td>[ELECTRICAL SYSTEM, VISIBILITY/WIPER]</td>\n",
       "    </tr>\n",
       "    <tr>\n",
       "      <th>3</th>\n",
       "      <td>[Electrical Systems]</td>\n",
       "      <td>[VISIBILITY/WIPER]</td>\n",
       "    </tr>\n",
       "    <tr>\n",
       "      <th>4</th>\n",
       "      <td>[Engine and Propulsion Systems]</td>\n",
       "      <td>[POWER TRAIN]</td>\n",
       "    </tr>\n",
       "  </tbody>\n",
       "</table>\n",
       "</div>"
      ],
      "text/plain": [
       "                          general_category  \\\n",
       "0  [Safety and Brakes, Electrical Systems]   \n",
       "1                     [Electrical Systems]   \n",
       "2                     [Electrical Systems]   \n",
       "3                     [Electrical Systems]   \n",
       "4          [Engine and Propulsion Systems]   \n",
       "\n",
       "                                    components_list  \n",
       "0  [ELECTRICAL SYSTEM, FORWARD COLLISION AVOIDANCE]  \n",
       "1                                      [VISIBILITY]  \n",
       "2             [ELECTRICAL SYSTEM, VISIBILITY/WIPER]  \n",
       "3                                [VISIBILITY/WIPER]  \n",
       "4                                     [POWER TRAIN]  "
      ]
     },
     "execution_count": 16,
     "metadata": {},
     "output_type": "execute_result"
    }
   ],
   "source": [
    "# Checking the mapping \n",
    "df_final[['general_category','components_list']].head()"
   ]
  },
  {
   "cell_type": "markdown",
   "metadata": {},
   "source": [
    "### Creating the Multi Label Target "
   ]
  },
  {
   "cell_type": "code",
   "execution_count": 17,
   "metadata": {},
   "outputs": [
    {
     "name": "stdout",
     "output_type": "stream",
     "text": [
      "['Electrical Systems' 'Engine and Propulsion Systems'\n",
      " 'Interior and Comfort Systems' 'Miscellaneous and Other Problems'\n",
      " 'Other Problems' 'Safety and Brakes' 'Vehicle Control and Structure']\n",
      "[[1 0 0 0 0 1 0]\n",
      " [1 0 0 0 0 0 0]\n",
      " [1 0 0 0 0 0 0]\n",
      " [1 0 0 0 0 0 0]\n",
      " [0 1 0 0 0 0 0]]\n"
     ]
    }
   ],
   "source": [
    "from sklearn.preprocessing import MultiLabelBinarizer\n",
    "\n",
    "df_final['category_binary'] = ''\n",
    "\n",
    "mlb = MultiLabelBinarizer()\n",
    "\n",
    "# Apply the fit_transform method to the 'general_category' column.\n",
    "# transforming  each category into a binary matrix\n",
    "y = mlb.fit_transform(list(df_final['general_category']))\n",
    "\n",
    "df_final['category_binary'] = list(y)\n",
    "\n",
    "# Example of how the classes look after transformation:\n",
    "print(mlb.classes_)  \n",
    "print(y[:5])  \n"
   ]
  },
  {
   "cell_type": "code",
   "execution_count": 18,
   "metadata": {},
   "outputs": [
    {
     "data": {
      "text/html": [
       "<div>\n",
       "<style scoped>\n",
       "    .dataframe tbody tr th:only-of-type {\n",
       "        vertical-align: middle;\n",
       "    }\n",
       "\n",
       "    .dataframe tbody tr th {\n",
       "        vertical-align: top;\n",
       "    }\n",
       "\n",
       "    .dataframe thead th {\n",
       "        text-align: right;\n",
       "    }\n",
       "</style>\n",
       "<table border=\"1\" class=\"dataframe\">\n",
       "  <thead>\n",
       "    <tr style=\"text-align: right;\">\n",
       "      <th></th>\n",
       "      <th>general_category</th>\n",
       "      <th>category_binary</th>\n",
       "    </tr>\n",
       "  </thead>\n",
       "  <tbody>\n",
       "    <tr>\n",
       "      <th>0</th>\n",
       "      <td>[Safety and Brakes, Electrical Systems]</td>\n",
       "      <td>[1, 0, 0, 0, 0, 1, 0]</td>\n",
       "    </tr>\n",
       "    <tr>\n",
       "      <th>1</th>\n",
       "      <td>[Electrical Systems]</td>\n",
       "      <td>[1, 0, 0, 0, 0, 0, 0]</td>\n",
       "    </tr>\n",
       "    <tr>\n",
       "      <th>2</th>\n",
       "      <td>[Electrical Systems]</td>\n",
       "      <td>[1, 0, 0, 0, 0, 0, 0]</td>\n",
       "    </tr>\n",
       "    <tr>\n",
       "      <th>3</th>\n",
       "      <td>[Electrical Systems]</td>\n",
       "      <td>[1, 0, 0, 0, 0, 0, 0]</td>\n",
       "    </tr>\n",
       "    <tr>\n",
       "      <th>4</th>\n",
       "      <td>[Engine and Propulsion Systems]</td>\n",
       "      <td>[0, 1, 0, 0, 0, 0, 0]</td>\n",
       "    </tr>\n",
       "  </tbody>\n",
       "</table>\n",
       "</div>"
      ],
      "text/plain": [
       "                          general_category        category_binary\n",
       "0  [Safety and Brakes, Electrical Systems]  [1, 0, 0, 0, 0, 1, 0]\n",
       "1                     [Electrical Systems]  [1, 0, 0, 0, 0, 0, 0]\n",
       "2                     [Electrical Systems]  [1, 0, 0, 0, 0, 0, 0]\n",
       "3                     [Electrical Systems]  [1, 0, 0, 0, 0, 0, 0]\n",
       "4          [Engine and Propulsion Systems]  [0, 1, 0, 0, 0, 0, 0]"
      ]
     },
     "execution_count": 18,
     "metadata": {},
     "output_type": "execute_result"
    }
   ],
   "source": [
    "# Checking the MultiLabelBinarizer Mapping \n",
    "\n",
    "df_final[['general_category','category_binary']].head()"
   ]
  },
  {
   "cell_type": "markdown",
   "metadata": {},
   "source": [
    "## Saving My Processed Data"
   ]
  },
  {
   "cell_type": "code",
   "execution_count": 19,
   "metadata": {},
   "outputs": [
    {
     "data": {
      "text/plain": [
       "Index(['Year', 'Model', 'crash', 'fire', 'numberOfInjuries', 'numberOfDeaths',\n",
       "       'dateOfIncident', 'dateComplaintFiled', 'components', 'summary',\n",
       "       'daysBetween', 'components_list', 'processed_summary',\n",
       "       'summary_embedding', 'model_embedding', 'word_count', 'char_count',\n",
       "       'sentiment', 'general_category', 'category_binary'],\n",
       "      dtype='object')"
      ]
     },
     "execution_count": 19,
     "metadata": {},
     "output_type": "execute_result"
    }
   ],
   "source": [
    "# Checking my final columns\n",
    "\n",
    "df_final.columns"
   ]
  },
  {
   "cell_type": "code",
   "execution_count": 20,
   "metadata": {},
   "outputs": [],
   "source": [
    "df_final['summary_embedding'] = df_final['summary_embedding'].apply(lambda x: json.dumps(x.tolist()) if isinstance(x, np.ndarray) else x)\n",
    "df_final['model_embedding'] = df_final['model_embedding'].apply(lambda x: json.dumps(x.tolist()) if isinstance(x, np.ndarray) else x)\n",
    "df_final['category_binary'] = df_final['category_binary'].apply(lambda x: json.dumps(x.tolist()) if isinstance(x, np.ndarray) else x)"
   ]
  },
  {
   "cell_type": "code",
   "execution_count": 21,
   "metadata": {},
   "outputs": [
    {
     "data": {
      "text/html": [
       "<div>\n",
       "<style scoped>\n",
       "    .dataframe tbody tr th:only-of-type {\n",
       "        vertical-align: middle;\n",
       "    }\n",
       "\n",
       "    .dataframe tbody tr th {\n",
       "        vertical-align: top;\n",
       "    }\n",
       "\n",
       "    .dataframe thead th {\n",
       "        text-align: right;\n",
       "    }\n",
       "</style>\n",
       "<table border=\"1\" class=\"dataframe\">\n",
       "  <thead>\n",
       "    <tr style=\"text-align: right;\">\n",
       "      <th></th>\n",
       "      <th>Year</th>\n",
       "      <th>Model</th>\n",
       "      <th>crash</th>\n",
       "      <th>fire</th>\n",
       "      <th>numberOfInjuries</th>\n",
       "      <th>numberOfDeaths</th>\n",
       "      <th>dateOfIncident</th>\n",
       "      <th>dateComplaintFiled</th>\n",
       "      <th>components</th>\n",
       "      <th>summary</th>\n",
       "      <th>daysBetween</th>\n",
       "      <th>components_list</th>\n",
       "      <th>processed_summary</th>\n",
       "      <th>summary_embedding</th>\n",
       "      <th>model_embedding</th>\n",
       "      <th>word_count</th>\n",
       "      <th>char_count</th>\n",
       "      <th>sentiment</th>\n",
       "      <th>general_category</th>\n",
       "      <th>category_binary</th>\n",
       "    </tr>\n",
       "  </thead>\n",
       "  <tbody>\n",
       "    <tr>\n",
       "      <th>0</th>\n",
       "      <td>2020</td>\n",
       "      <td>RANGER</td>\n",
       "      <td>0</td>\n",
       "      <td>0</td>\n",
       "      <td>0</td>\n",
       "      <td>0</td>\n",
       "      <td>2023-07-14</td>\n",
       "      <td>2025-02-14</td>\n",
       "      <td>ELECTRICAL SYSTEM,FORWARD COLLISION AVOIDANCE</td>\n",
       "      <td>The contact owns a 2020 Ford Ranger. The conta...</td>\n",
       "      <td>581</td>\n",
       "      <td>[ELECTRICAL SYSTEM, FORWARD COLLISION AVOIDANCE]</td>\n",
       "      <td>contact owns 2020 ford ranger contact stated d...</td>\n",
       "      <td>[-0.5945867300033569, -0.2592541575431824, 0.3...</td>\n",
       "      <td>[-0.003329833270981908, -0.24025963246822357, ...</td>\n",
       "      <td>48</td>\n",
       "      <td>384</td>\n",
       "      <td>-0.105556</td>\n",
       "      <td>[Safety and Brakes, Electrical Systems]</td>\n",
       "      <td>[1, 0, 0, 0, 0, 1, 0]</td>\n",
       "    </tr>\n",
       "    <tr>\n",
       "      <th>1</th>\n",
       "      <td>2020</td>\n",
       "      <td>RANGER</td>\n",
       "      <td>0</td>\n",
       "      <td>0</td>\n",
       "      <td>0</td>\n",
       "      <td>0</td>\n",
       "      <td>2025-01-09</td>\n",
       "      <td>2025-01-09</td>\n",
       "      <td>VISIBILITY</td>\n",
       "      <td>The contact owns a 2020 Ford Ranger. The conta...</td>\n",
       "      <td>0</td>\n",
       "      <td>[VISIBILITY]</td>\n",
       "      <td>contact owns 2020 ford ranger contact stated s...</td>\n",
       "      <td>[-0.46559658646583557, -0.3454362154006958, 0....</td>\n",
       "      <td>[-0.003329833270981908, -0.24025963246822357, ...</td>\n",
       "      <td>41</td>\n",
       "      <td>306</td>\n",
       "      <td>-0.243333</td>\n",
       "      <td>[Electrical Systems]</td>\n",
       "      <td>[1, 0, 0, 0, 0, 0, 0]</td>\n",
       "    </tr>\n",
       "  </tbody>\n",
       "</table>\n",
       "</div>"
      ],
      "text/plain": [
       "   Year   Model  crash  fire  numberOfInjuries  numberOfDeaths dateOfIncident  \\\n",
       "0  2020  RANGER      0     0                 0               0     2023-07-14   \n",
       "1  2020  RANGER      0     0                 0               0     2025-01-09   \n",
       "\n",
       "  dateComplaintFiled                                     components  \\\n",
       "0         2025-02-14  ELECTRICAL SYSTEM,FORWARD COLLISION AVOIDANCE   \n",
       "1         2025-01-09                                     VISIBILITY   \n",
       "\n",
       "                                             summary  daysBetween  \\\n",
       "0  The contact owns a 2020 Ford Ranger. The conta...          581   \n",
       "1  The contact owns a 2020 Ford Ranger. The conta...            0   \n",
       "\n",
       "                                    components_list  \\\n",
       "0  [ELECTRICAL SYSTEM, FORWARD COLLISION AVOIDANCE]   \n",
       "1                                      [VISIBILITY]   \n",
       "\n",
       "                                   processed_summary  \\\n",
       "0  contact owns 2020 ford ranger contact stated d...   \n",
       "1  contact owns 2020 ford ranger contact stated s...   \n",
       "\n",
       "                                   summary_embedding  \\\n",
       "0  [-0.5945867300033569, -0.2592541575431824, 0.3...   \n",
       "1  [-0.46559658646583557, -0.3454362154006958, 0....   \n",
       "\n",
       "                                     model_embedding  word_count  char_count  \\\n",
       "0  [-0.003329833270981908, -0.24025963246822357, ...          48         384   \n",
       "1  [-0.003329833270981908, -0.24025963246822357, ...          41         306   \n",
       "\n",
       "   sentiment                         general_category        category_binary  \n",
       "0  -0.105556  [Safety and Brakes, Electrical Systems]  [1, 0, 0, 0, 0, 1, 0]  \n",
       "1  -0.243333                     [Electrical Systems]  [1, 0, 0, 0, 0, 0, 0]  "
      ]
     },
     "execution_count": 21,
     "metadata": {},
     "output_type": "execute_result"
    }
   ],
   "source": [
    "# Checking my final df\n",
    "\n",
    "df_final.head(2)"
   ]
  },
  {
   "cell_type": "code",
   "execution_count": 22,
   "metadata": {},
   "outputs": [],
   "source": [
    "models = df_final['Model'].unique().tolist()\n",
    "\n",
    "\n",
    "# Define mean and scale values\n",
    "model_data = {\n",
    "    \"models\":models\n",
    "}\n",
    "# Save to JSON file\n",
    "with open('../models/models_params.json', 'w') as f:\n",
    "    json.dump(model_data, f)\n"
   ]
  },
  {
   "cell_type": "code",
   "execution_count": 23,
   "metadata": {},
   "outputs": [],
   "source": [
    "# Saving my final data to use in the model\n",
    "df_final[['processed_summary', 'summary_embedding', 'model_embedding', 'word_count', 'char_count',\n",
    "          'sentiment', 'category_binary']].to_csv('../data/processed/df_final_model.csv',index=False)"
   ]
  },
  {
   "cell_type": "code",
   "execution_count": 24,
   "metadata": {},
   "outputs": [],
   "source": [
    "# Saving my final data to use in analysis\n",
    "df_final[['Year','Model', 'crash', 'fire', 'numberOfInjuries', 'numberOfDeaths',\n",
    "       'dateOfIncident', 'dateComplaintFiled', 'summary',\n",
    "       'daysBetween', 'components_list','sentiment',\n",
    "       'general_category', 'word_count',\n",
    "       'char_count']].to_csv('../data/processed/df_final_chart.csv',index=False)"
   ]
  }
 ],
 "metadata": {
  "kernelspec": {
   "display_name": "ford_case_iel",
   "language": "python",
   "name": "python3"
  },
  "language_info": {
   "codemirror_mode": {
    "name": "ipython",
    "version": 3
   },
   "file_extension": ".py",
   "mimetype": "text/x-python",
   "name": "python",
   "nbconvert_exporter": "python",
   "pygments_lexer": "ipython3",
   "version": "3.9.21"
  }
 },
 "nbformat": 4,
 "nbformat_minor": 2
}
